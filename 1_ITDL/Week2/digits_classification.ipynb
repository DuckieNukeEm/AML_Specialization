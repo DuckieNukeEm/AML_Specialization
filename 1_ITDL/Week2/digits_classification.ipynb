{
 "cells": [
  {
   "cell_type": "markdown",
   "metadata": {
    "slideshow": {
     "slide_type": "slide"
    }
   },
   "source": [
    "# MNIST digits classification with TensorFlow"
   ]
  },
  {
   "cell_type": "markdown",
   "metadata": {},
   "source": [
    "<img src=\"images/mnist_sample.png\" style=\"width:30%\">"
   ]
  },
  {
   "cell_type": "code",
   "execution_count": 1,
   "metadata": {},
   "outputs": [
    {
     "name": "stdout",
     "output_type": "stream",
     "text": [
      "We're using TF 1.13.1\n"
     ]
    }
   ],
   "source": [
    "import numpy as np\n",
    "from sklearn.metrics import accuracy_score\n",
    "from matplotlib import pyplot as plt\n",
    "%matplotlib inline\n",
    "import tensorflow as tf\n",
    "print(\"We're using TF\", tf.__version__)"
   ]
  },
  {
   "cell_type": "code",
   "execution_count": 2,
   "metadata": {},
   "outputs": [
    {
     "name": "stderr",
     "output_type": "stream",
     "text": [
      "Using TensorFlow backend.\n"
     ]
    }
   ],
   "source": [
    "import sys\n",
    "sys.path.append(\"..\")\n",
    "sys.path.append(\"SupportFunctions\")\n",
    "import grading\n",
    "\n",
    "import matplotlib_utils\n",
    "from importlib import reload\n",
    "reload(matplotlib_utils)\n",
    "\n",
    "import grading_utils\n",
    "reload(grading_utils)\n",
    "\n",
    "import keras_utils\n",
    "from keras_utils import reset_tf_session\n",
    "\n",
    "from keras.datasets import mnist"
   ]
  },
  {
   "cell_type": "markdown",
   "metadata": {},
   "source": [
    "# Fill in your Coursera token and email\n",
    "To successfully submit your answers to our grader, please fill in your Coursera submission token and email"
   ]
  },
  {
   "cell_type": "code",
   "execution_count": 3,
   "metadata": {},
   "outputs": [],
   "source": [
    "grader = grading.Grader(assignment_key=\"XtD7ho3TEeiHQBLWejjYAA\", \n",
    "                        all_parts=[\"9XaAS\", \"vmogZ\", \"RMv95\", \"i8bgs\", \"rE763\"])"
   ]
  },
  {
   "cell_type": "code",
   "execution_count": 4,
   "metadata": {},
   "outputs": [],
   "source": [
    "# token expires every 30 min\n",
    "COURSERA_TOKEN = \"DdAr9jWIb0pvjPGU\"\n",
    "COURSERA_EMAIL = \"camfincher@hotmail.com\""
   ]
  },
  {
   "cell_type": "markdown",
   "metadata": {},
   "source": [
    "# Look at the data\n",
    "\n",
    "In this task we have 50000 28x28 images of digits from 0 to 9.\n",
    "We will train a classifier on this data."
   ]
  },
  {
   "cell_type": "code",
   "execution_count": 5,
   "metadata": {},
   "outputs": [],
   "source": [
    "def load_dataset_mnist(flatten=False):\n",
    "    (X_train, y_train), (X_test, y_test) = mnist.load_data()\n",
    "\n",
    "    # normalize x\n",
    "    X_train = X_train.astype(float) / 255.\n",
    "    X_test = X_test.astype(float) / 255.\n",
    "\n",
    "    # we reserve the last 10000 training examples for validation\n",
    "    X_train, X_val = X_train[:-10000], X_train[-10000:]\n",
    "    y_train, y_val = y_train[:-10000], y_train[-10000:]\n",
    "\n",
    "    if flatten:\n",
    "        X_train = X_train.reshape([X_train.shape[0], -1])\n",
    "        X_val = X_val.reshape([X_val.shape[0], -1])\n",
    "        X_test = X_test.reshape([X_test.shape[0], -1])\n",
    "\n",
    "    return X_train, y_train, X_val, y_val, X_test, y_test"
   ]
  },
  {
   "cell_type": "code",
   "execution_count": 6,
   "metadata": {},
   "outputs": [],
   "source": [
    "\n",
    "X_train, y_train, X_val, y_val, X_test, y_test = load_dataset_mnist()"
   ]
  },
  {
   "cell_type": "code",
   "execution_count": 7,
   "metadata": {},
   "outputs": [
    {
     "name": "stdout",
     "output_type": "stream",
     "text": [
      "X_train [shape (50000, 28, 28)] sample patch:\n",
      " [[0.         0.29803922 0.96470588 0.98823529 0.43921569]\n",
      " [0.         0.33333333 0.98823529 0.90196078 0.09803922]\n",
      " [0.         0.33333333 0.98823529 0.8745098  0.        ]\n",
      " [0.         0.33333333 0.98823529 0.56862745 0.        ]\n",
      " [0.         0.3372549  0.99215686 0.88235294 0.        ]]\n",
      "A closeup of a sample patch:\n"
     ]
    },
    {
     "data": {
      "image/png": "[encoded data removed]",
      "text/plain": [
       "<Figure size 432x288 with 1 Axes>"
      ]
     },
     "metadata": {
      "needs_background": "light"
     },
     "output_type": "display_data"
    },
    {
     "name": "stdout",
     "output_type": "stream",
     "text": [
      "And the whole sample:\n"
     ]
    },
    {
     "data": {
      "image/png": "[encoded data removed]",
      "text/plain": [
       "<Figure size 432x288 with 1 Axes>"
      ]
     },
     "metadata": {
      "needs_background": "light"
     },
     "output_type": "display_data"
    },
    {
     "name": "stdout",
     "output_type": "stream",
     "text": [
      "y_train [shape (50000,)] 10 samples:\n",
      " [5 0 4 1 9 2 1 3 1 4]\n"
     ]
    }
   ],
   "source": [
    "# X contains rgb values divided by 255\n",
    "print(\"X_train [shape %s] sample patch:\\n\" % (str(X_train.shape)), X_train[1, 15:20, 5:10])\n",
    "print(\"A closeup of a sample patch:\")\n",
    "plt.imshow(X_train[1, 15:20, 5:10], cmap=\"Greys\")\n",
    "plt.show()\n",
    "print(\"And the whole sample:\")\n",
    "plt.imshow(X_train[1], cmap=\"Greys\")\n",
    "plt.show()\n",
    "print(\"y_train [shape %s] 10 samples:\\n\" % (str(y_train.shape)), y_train[:10])"
   ]
  },
  {
   "cell_type": "markdown",
   "metadata": {},
   "source": [
    "# Linear model\n",
    "\n",
    "Your task is to train a linear classifier $\\vec{x} \\rightarrow y$ with SGD using TensorFlow.\n",
    "\n",
    "You will need to calculate a logit (a linear transformation) $z_k$ for each class: \n",
    "$$z_k = \\vec{x} \\cdot \\vec{w_k} + b_k \\quad k = 0..9$$\n",
    "\n",
    "And transform logits $z_k$ to valid probabilities $p_k$ with softmax: \n",
    "$$p_k = \\frac{e^{z_k}}{\\sum_{i=0}^{9}{e^{z_i}}} \\quad k = 0..9$$\n",
    "\n",
    "We will use a cross-entropy loss to train our multi-class classifier:\n",
    "$$\\text{cross-entropy}(y, p) = -\\sum_{k=0}^{9}{\\log(p_k)[y = k]}$$ \n",
    "\n",
    "where \n",
    "$$\n",
    "[x]=\\begin{cases}\n",
    "       1, \\quad \\text{if $x$ is true} \\\\\n",
    "       0, \\quad \\text{otherwise}\n",
    "    \\end{cases}\n",
    "$$\n",
    "\n",
    "Cross-entropy minimization pushes $p_k$ close to 1 when $y = k$, which is what we want.\n",
    "\n",
    "Here's the plan:\n",
    "* Flatten the images (28x28 -> 784) with `X_train.reshape((X_train.shape[0], -1))` to simplify our linear model implementation\n",
    "* Use a matrix placeholder for flattened `X_train`\n",
    "* Convert `y_train` to one-hot encoded vectors that are needed for cross-entropy\n",
    "* Use a shared variable `W` for all weights (a column $\\vec{w_k}$ per class) and `b` for all biases.\n",
    "* Aim for ~0.93 validation accuracy"
   ]
  },
  {
   "cell_type": "code",
   "execution_count": 8,
   "metadata": {},
   "outputs": [
    {
     "name": "stdout",
     "output_type": "stream",
     "text": [
      "(50000, 784)\n",
      "(10000, 784)\n"
     ]
    }
   ],
   "source": [
    "X_train_flat = X_train.reshape((X_train.shape[0], -1))\n",
    "print(X_train_flat.shape)\n",
    "\n",
    "X_val_flat = X_val.reshape((X_val.shape[0], -1))\n",
    "print(X_val_flat.shape)"
   ]
  },
  {
   "cell_type": "code",
   "execution_count": 9,
   "metadata": {},
   "outputs": [
    {
     "name": "stdout",
     "output_type": "stream",
     "text": [
      "(50000, 10)\n",
      "[[0. 0. 0. 0. 0. 1. 0. 0. 0. 0.]\n",
      " [1. 0. 0. 0. 0. 0. 0. 0. 0. 0.]\n",
      " [0. 0. 0. 0. 1. 0. 0. 0. 0. 0.]] [5 0 4]\n"
     ]
    }
   ],
   "source": [
    "import keras\n",
    "\n",
    "y_train_oh = keras.utils.to_categorical(y_train, 10)\n",
    "y_val_oh = keras.utils.to_categorical(y_val, 10)\n",
    "\n",
    "print(y_train_oh.shape)\n",
    "print(y_train_oh[:3], y_train[:3])"
   ]
  },
  {
   "cell_type": "code",
   "execution_count": 10,
   "metadata": {},
   "outputs": [],
   "source": [
    "# run this again if you remake your graph\n",
    "s = reset_tf_session()"
   ]
  },
  {
   "cell_type": "code",
   "execution_count": 11,
   "metadata": {},
   "outputs": [
    {
     "name": "stdout",
     "output_type": "stream",
     "text": [
      "WARNING:tensorflow:From /home/asmodi/.local/lib/python3.5/site-packages/tensorflow/python/framework/op_def_library.py:263: colocate_with (from tensorflow.python.framework.ops) is deprecated and will be removed in a future version.\n",
      "Instructions for updating:\n",
      "Colocations handled automatically by placer.\n"
     ]
    }
   ],
   "source": [
    "# Model parameters: W and b\n",
    "#tf.get_variable(...) with shape[0] = 784, it may have to be shape = (784,10)\n",
    "W = tf.get_variable(\"W\", shape = [784,10], dtype=tf.float32, trainable=True)  \n",
    "#Below mihgt nieed to be shape 10, for eaach intercept\n",
    "b = tf.get_variable(\"b\", shape =[10], dtype = tf.float32, trainable = True)"
   ]
  },
  {
   "cell_type": "code",
   "execution_count": 12,
   "metadata": {},
   "outputs": [],
   "source": [
    "# Placeholders for the input data\n",
    "\n",
    "# tf.placeholder(...) for flat X with shape[0] = None for any batch size\n",
    "input_X = tf.placeholder(shape = [None,784], dtype = tf.float32, name = 'input_X')\n",
    "# tf.placeholder(...) for one-hot encoded true labels\n",
    "input_y = tf.placeholder(shape = [None,10], dtype = tf.int16, name = 'input_y') "
   ]
  },
  {
   "cell_type": "code",
   "execution_count": 13,
   "metadata": {},
   "outputs": [],
   "source": [
    "# Compute predictions\n",
    "# logits for input_X, resulting shape should be [input_X.shape[0], 10]\n",
    "logits =  tf.matmul(input_X , W) + b\n",
    "\n",
    "# apply tf.nn.softmax to logits\n",
    "probas = tf.nn.softmax(logits) \n",
    "\n",
    "# apply tf.argmax to find a class index with highest probability\n",
    "classes = tf.argmax(probas, axis = 1)"
   ]
  },
  {
   "cell_type": "code",
   "execution_count": 14,
   "metadata": {},
   "outputs": [
    {
     "name": "stdout",
     "output_type": "stream",
     "text": [
      "WARNING:tensorflow:From <ipython-input-14-fa43802b945b>:6: softmax_cross_entropy_with_logits (from tensorflow.python.ops.nn_ops) is deprecated and will be removed in a future version.\n",
      "Instructions for updating:\n",
      "\n",
      "Future major versions of TensorFlow will allow gradients to flow\n",
      "into the labels input on backprop by default.\n",
      "\n",
      "See `tf.nn.softmax_cross_entropy_with_logits_v2`.\n",
      "\n"
     ]
    }
   ],
   "source": [
    "\n",
    "\n",
    "# Loss should be a scalar number: average loss over all the objects with tf.reduce_mean().\n",
    "# Use tf.nn.softmax_cross_entropy_with_logits on top of one-hot encoded input_y and logits.\n",
    "# It is identical to calculating cross-entropy on top of probas, but is more numerically friendly (read the docs).\n",
    "loss = tf.reduce_mean(tf.nn.softmax_cross_entropy_with_logits(labels = input_y, logits = logits)) #cross-entropy loss\n",
    "\n",
    "# Use a default tf.train.AdamOptimizer to get an SGD step\n",
    "step = tf.train.AdamOptimizer().minimize(loss)"
   ]
  },
  {
   "cell_type": "code",
   "execution_count": 15,
   "metadata": {
    "scrolled": false
   },
   "outputs": [
    {
     "name": "stdout",
     "output_type": "stream",
     "text": [
      "0 Train accuracy: 0.83666 Test accuracy: 0.8578\n",
      "1 Train accuracy: 0.87162 Test accuracy: 0.887\n",
      "2 Train accuracy: 0.88644 Test accuracy: 0.8987\n",
      "3 Train accuracy: 0.89586 Test accuracy: 0.9057\n",
      "4 Train accuracy: 0.90066 Test accuracy: 0.9089\n",
      "5 Train accuracy: 0.9054 Test accuracy: 0.912\n",
      "6 Train accuracy: 0.90812 Test accuracy: 0.9144\n",
      "7 Train accuracy: 0.9106 Test accuracy: 0.9162\n",
      "8 Train accuracy: 0.91234 Test accuracy: 0.9188\n",
      "9 Train accuracy: 0.91408 Test accuracy: 0.9196\n",
      "10 Train accuracy: 0.9156 Test accuracy: 0.9216\n",
      "11 Train accuracy: 0.91708 Test accuracy: 0.9224\n",
      "12 Train accuracy: 0.91814 Test accuracy: 0.923\n",
      "13 Train accuracy: 0.91924 Test accuracy: 0.9234\n",
      "14 Train accuracy: 0.92014 Test accuracy: 0.9245\n",
      "15 Train accuracy: 0.92094 Test accuracy: 0.9255\n",
      "16 Train accuracy: 0.92152 Test accuracy: 0.9258\n",
      "17 Train accuracy: 0.92224 Test accuracy: 0.9262\n",
      "18 Train accuracy: 0.923 Test accuracy: 0.9263\n",
      "19 Train accuracy: 0.92372 Test accuracy: 0.9268\n",
      "20 Train accuracy: 0.92418 Test accuracy: 0.9271\n",
      "21 Train accuracy: 0.9246 Test accuracy: 0.9272\n",
      "22 Train accuracy: 0.92508 Test accuracy: 0.9277\n",
      "23 Train accuracy: 0.92542 Test accuracy: 0.9283\n",
      "24 Train accuracy: 0.92576 Test accuracy: 0.9283\n",
      "25 Train accuracy: 0.9262 Test accuracy: 0.9289\n",
      "26 Train accuracy: 0.92664 Test accuracy: 0.9289\n",
      "27 Train accuracy: 0.92708 Test accuracy: 0.9292\n",
      "28 Train accuracy: 0.92744 Test accuracy: 0.9295\n",
      "29 Train accuracy: 0.9275 Test accuracy: 0.9297\n",
      "30 Train accuracy: 0.92776 Test accuracy: 0.9295\n",
      "31 Train accuracy: 0.9281 Test accuracy: 0.9296\n",
      "32 Train accuracy: 0.9282 Test accuracy: 0.93\n",
      "33 Train accuracy: 0.92858 Test accuracy: 0.9303\n",
      "34 Train accuracy: 0.92866 Test accuracy: 0.9301\n",
      "35 Train accuracy: 0.92894 Test accuracy: 0.9304\n",
      "36 Train accuracy: 0.92908 Test accuracy: 0.9303\n",
      "37 Train accuracy: 0.92936 Test accuracy: 0.9306\n",
      "38 Train accuracy: 0.92976 Test accuracy: 0.9307\n",
      "39 Train accuracy: 0.92984 Test accuracy: 0.9309\n"
     ]
    }
   ],
   "source": [
    "s.run(tf.global_variables_initializer())\n",
    "\n",
    "BATCH_SIZE = 512\n",
    "EPOCHS = 40\n",
    "\n",
    "# for logging the progress right here in Jupyter (for those who don't have TensorBoard)\n",
    "simpleTrainingCurves = matplotlib_utils.SimpleTrainingCurves(\"cross-entropy\", \"accuracy\")\n",
    "\n",
    "for epoch in range(EPOCHS):  # we finish an epoch when we've looked at all training samples\n",
    "    \n",
    "    batch_losses = []\n",
    "    for batch_start in range(0, X_train_flat.shape[0], BATCH_SIZE):  # data is already shuffled\n",
    "        batch_loss, _ = s.run([loss, step], {input_X: X_train_flat[batch_start:batch_start+BATCH_SIZE], \n",
    "                                             input_y: y_train_oh[batch_start:batch_start+BATCH_SIZE]})\n",
    "        # collect batch losses, this is almost free as we need a forward pass for backprop anyway\n",
    "        batch_losses.append(batch_loss)\n",
    "\n",
    "    train_loss = np.mean(batch_losses)\n",
    "    val_loss = s.run(loss, {input_X: X_val_flat, input_y: y_val_oh})  # this part is usually small\n",
    "    train_accuracy = accuracy_score(y_train, s.run(classes, {input_X: X_train_flat}))  # this is slow and usually skipped\n",
    "    valid_accuracy = accuracy_score(y_val, s.run(classes, {input_X: X_val_flat}))  \n",
    "    print(epoch, \"Train accuracy:\", train_accuracy, \"Test accuracy:\", valid_accuracy)\n",
    " #   simpleTrainingCurves.add(train_loss, val_loss, train_accuracy, valid_accuracy)"
   ]
  },
  {
   "cell_type": "markdown",
   "metadata": {},
   "source": [
    "# Submit a linear model"
   ]
  },
  {
   "cell_type": "code",
   "execution_count": 16,
   "metadata": {},
   "outputs": [],
   "source": [
    "## GRADED PART, DO NOT CHANGE!\n",
    "# Testing shapes \n",
    "grader.set_answer(\"9XaAS\", grading_utils.get_tensors_shapes_string([W, b, input_X, input_y, logits, probas, classes]))\n",
    "# Validation loss\n",
    "grader.set_answer(\"vmogZ\", s.run(loss, {input_X: X_val_flat, input_y: y_val_oh}))\n",
    "# Validation accuracy\n",
    "grader.set_answer(\"RMv95\", accuracy_score(y_val, s.run(classes, {input_X: X_val_flat})))"
   ]
  },
  {
   "cell_type": "code",
   "execution_count": 17,
   "metadata": {},
   "outputs": [
    {
     "name": "stdout",
     "output_type": "stream",
     "text": [
      "Submitted to Coursera platform. See results on assignment page!\n"
     ]
    }
   ],
   "source": [
    "# you can make submission with answers so far to check yourself at this stage\n",
    "grader.submit(COURSERA_EMAIL, COURSERA_TOKEN)"
   ]
  },
  {
   "cell_type": "markdown",
   "metadata": {},
   "source": [
    "# MLP with hidden layers"
   ]
  },
  {
   "cell_type": "markdown",
   "metadata": {},
   "source": [
    "Previously we've coded a dense layer with matrix multiplication by hand. \n",
    "But this is not convenient, you have to create a lot of variables and your code becomes a mess. \n",
    "In TensorFlow there's an easier way to make a dense layer:\n",
    "```python\n",
    "hidden1 = tf.layers.dense(inputs, 256, activation=tf.nn.sigmoid)\n",
    "```\n",
    "\n",
    "That will create all the necessary variables automatically.\n",
    "Here you can also choose an activation function (remember that we need it for a hidden layer!).\n",
    "\n",
    "Now define the MLP with 2 hidden layers and restart training with the cell above.\n",
    "\n",
    "You're aiming for ~0.97 validation accuracy here."
   ]
  },
  {
   "cell_type": "code",
   "execution_count": 22,
   "metadata": {},
   "outputs": [],
   "source": [
    "# write the code here to get a new `step` operation and then run the cell with training loop above.\n",
    "# name your variables in the same way (e.g. logits, probas, classes, etc) for safety.\n",
    "\n",
    "#Initilizing\n",
    "s = reset_tf_session()\n",
    "\n",
    "#Creating our inputs\n",
    "# tf.placeholder(...) for flat X with shape[0] = None for any batch size\n",
    "input_X = tf.placeholder(shape = [None,784], dtype = tf.float32, name = 'input_X')\n",
    "# tf.placeholder(...) for one-hot encoded true labels\n",
    "input_y = tf.placeholder(shape = [None,10], dtype = tf.int16, name = 'input_y') \n",
    "#creating our hidden layer :P with said calculations\n",
    "\n",
    "Layer1 = tf.layers.dense(input_X, 256, activation=tf.nn.sigmoid)\n",
    "Layer2 = tf.layers.dense(Layer1, 256, activation=tf.nn.sigmoid)\n",
    "logits = tf.layers.dense(Layer2, 10, activation=tf.nn.sigmoid)\n",
    "\n",
    "# apply tf.nn.softmax to logits\n",
    "probas = tf.nn.softmax(logits) \n",
    "\n",
    "# apply tf.argmax to find a class index with highest probability\n",
    "classes = tf.argmax(probas, axis = 1)\n",
    "\n",
    "loss = tf.reduce_mean(tf.nn.softmax_cross_entropy_with_logits(labels = input_y, logits = logits)) #cross-entropy loss\n",
    "\n",
    "# Use a default tf.train.AdamOptimizer to get an SGD step\n",
    "step = tf.train.AdamOptimizer().minimize(loss)"
   ]
  },
  {
   "cell_type": "code",
   "execution_count": 23,
   "metadata": {},
   "outputs": [
    {
     "name": "stdout",
     "output_type": "stream",
     "text": [
      "0 Train accuracy: 0.85058 Test accuracy: 0.8666\n",
      "1 Train accuracy: 0.88664 Test accuracy: 0.8975\n",
      "2 Train accuracy: 0.90798 Test accuracy: 0.9137\n",
      "3 Train accuracy: 0.91954 Test accuracy: 0.9247\n",
      "4 Train accuracy: 0.92718 Test accuracy: 0.9307\n",
      "5 Train accuracy: 0.933 Test accuracy: 0.9344\n",
      "6 Train accuracy: 0.93784 Test accuracy: 0.9392\n",
      "7 Train accuracy: 0.94214 Test accuracy: 0.9438\n",
      "8 Train accuracy: 0.94582 Test accuracy: 0.9465\n",
      "9 Train accuracy: 0.94928 Test accuracy: 0.9502\n",
      "10 Train accuracy: 0.95234 Test accuracy: 0.9528\n",
      "11 Train accuracy: 0.95526 Test accuracy: 0.9559\n",
      "12 Train accuracy: 0.95798 Test accuracy: 0.9578\n",
      "13 Train accuracy: 0.96042 Test accuracy: 0.9597\n",
      "14 Train accuracy: 0.96276 Test accuracy: 0.9625\n",
      "15 Train accuracy: 0.96494 Test accuracy: 0.9637\n",
      "16 Train accuracy: 0.96702 Test accuracy: 0.9645\n",
      "17 Train accuracy: 0.96912 Test accuracy: 0.9652\n",
      "18 Train accuracy: 0.97072 Test accuracy: 0.9661\n",
      "19 Train accuracy: 0.97262 Test accuracy: 0.9672\n",
      "20 Train accuracy: 0.9743 Test accuracy: 0.9679\n",
      "21 Train accuracy: 0.97584 Test accuracy: 0.9692\n",
      "22 Train accuracy: 0.97704 Test accuracy: 0.97\n",
      "23 Train accuracy: 0.97784 Test accuracy: 0.9701\n",
      "24 Train accuracy: 0.97882 Test accuracy: 0.9709\n",
      "25 Train accuracy: 0.9799 Test accuracy: 0.9712\n",
      "26 Train accuracy: 0.98102 Test accuracy: 0.9718\n",
      "27 Train accuracy: 0.98224 Test accuracy: 0.9722\n",
      "28 Train accuracy: 0.98332 Test accuracy: 0.9728\n",
      "29 Train accuracy: 0.98434 Test accuracy: 0.9729\n",
      "30 Train accuracy: 0.98516 Test accuracy: 0.9734\n",
      "31 Train accuracy: 0.9857 Test accuracy: 0.974\n",
      "32 Train accuracy: 0.9862 Test accuracy: 0.9742\n",
      "33 Train accuracy: 0.987 Test accuracy: 0.9746\n",
      "34 Train accuracy: 0.98758 Test accuracy: 0.9751\n",
      "35 Train accuracy: 0.9882 Test accuracy: 0.9755\n",
      "36 Train accuracy: 0.98874 Test accuracy: 0.9755\n",
      "37 Train accuracy: 0.98932 Test accuracy: 0.9759\n",
      "38 Train accuracy: 0.98986 Test accuracy: 0.9758\n",
      "39 Train accuracy: 0.99048 Test accuracy: 0.9758\n"
     ]
    }
   ],
   "source": [
    "s.run(tf.global_variables_initializer())\n",
    "\n",
    "BATCH_SIZE = 512\n",
    "EPOCHS = 40\n",
    "\n",
    "# for logging the progress right here in Jupyter (for those who don't have TensorBoard)\n",
    "simpleTrainingCurves = matplotlib_utils.SimpleTrainingCurves(\"cross-entropy\", \"accuracy\")\n",
    "\n",
    "for epoch in range(EPOCHS):  # we finish an epoch when we've looked at all training samples\n",
    "    \n",
    "    batch_losses = []\n",
    "    for batch_start in range(0, X_train_flat.shape[0], BATCH_SIZE):  # data is already shuffled\n",
    "        batch_loss, _ = s.run([loss, step], {input_X: X_train_flat[batch_start:batch_start+BATCH_SIZE], \n",
    "                                             input_y: y_train_oh[batch_start:batch_start+BATCH_SIZE]})\n",
    "        # collect batch losses, this is almost free as we need a forward pass for backprop anyway\n",
    "        batch_losses.append(batch_loss)\n",
    "\n",
    "    train_loss = np.mean(batch_losses)\n",
    "    val_loss = s.run(loss, {input_X: X_val_flat, input_y: y_val_oh})  # this part is usually small\n",
    "    train_accuracy = accuracy_score(y_train, s.run(classes, {input_X: X_train_flat}))  # this is slow and usually skipped\n",
    "    valid_accuracy = accuracy_score(y_val, s.run(classes, {input_X: X_val_flat}))  \n",
    "    print(epoch, \"Train accuracy:\", train_accuracy, \"Test accuracy:\", valid_accuracy)\n",
    " #   simpleTrainingCurves.add(train_loss, val_loss, train_accuracy, valid_accuracy)"
   ]
  },
  {
   "cell_type": "markdown",
   "metadata": {},
   "source": [
    "# Submit the MLP with 2 hidden layers\n",
    "Run these cells after training the MLP with 2 hidden layers"
   ]
  },
  {
   "cell_type": "code",
   "execution_count": 24,
   "metadata": {},
   "outputs": [],
   "source": [
    "## GRADED PART, DO NOT CHANGE!\n",
    "# Validation loss for MLP\n",
    "grader.set_answer(\"i8bgs\", s.run(loss, {input_X: X_val_flat, input_y: y_val_oh}))\n",
    "# Validation accuracy for MLP\n",
    "grader.set_answer(\"rE763\", accuracy_score(y_val, s.run(classes, {input_X: X_val_flat})))"
   ]
  },
  {
   "cell_type": "code",
   "execution_count": 25,
   "metadata": {},
   "outputs": [
    {
     "name": "stdout",
     "output_type": "stream",
     "text": [
      "Submitted to Coursera platform. See results on assignment page!\n"
     ]
    }
   ],
   "source": [
    "# you can make submission with answers so far to check yourself at this stage\n",
    "grader.submit(COURSERA_EMAIL, COURSERA_TOKEN)"
   ]
  },
  {
   "cell_type": "code",
   "execution_count": null,
   "metadata": {},
   "outputs": [],
   "source": [
    "dd"
   ]
  }
 ],
 "metadata": {
  "kernelspec": {
   "display_name": "Python 3",
   "language": "python",
   "name": "python3"
  },
  "language_info": {
   "codemirror_mode": {
    "name": "ipython",
    "version": 3
   },
   "file_extension": ".py",
   "mimetype": "text/x-python",
   "name": "python",
   "nbconvert_exporter": "python",
   "pygments_lexer": "ipython3",
   "version": "3.5.2"
  }
 },
 "nbformat": 4,
 "nbformat_minor": 1
}
